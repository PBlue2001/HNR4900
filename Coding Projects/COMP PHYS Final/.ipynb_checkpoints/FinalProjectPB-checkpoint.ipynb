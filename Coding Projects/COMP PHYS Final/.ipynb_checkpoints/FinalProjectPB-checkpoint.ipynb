{
 "cells": [
  {
   "cell_type": "markdown",
   "id": "bd0e3538",
   "metadata": {},
   "source": [
    "<h1>PHY 2200 - Computational Physics</h1>\n",
    "<h2>Spring 2023</h2>"
   ]
  },
  {
   "cell_type": "markdown",
   "id": "0e031ef7",
   "metadata": {},
   "source": [
    "<h2>Final Project</h2>"
   ]
  },
  {
   "cell_type": "code",
   "execution_count": 1,
   "id": "bc1eca9d",
   "metadata": {},
   "outputs": [],
   "source": [
    "import numpy as np\n",
    "from matplotlib import pyplot as plt\n",
    "from time import sleep # To set the animation frame rate \n",
    "from IPython.display import clear_output # To redraw"
   ]
  },
  {
   "cell_type": "markdown",
   "id": "8e4175f9",
   "metadata": {},
   "source": [
    "## Introduction and background\n",
    "### I am Doing the suggested project for adding something to a previous simulation to explore new ideas\n",
    "###### Modify some simulation we have used in a particularly motivated way (e.g., come up with a way to add “water” to the forest fire simulation—thanks to Parker for suggesting this)\n",
    "I was originally inspired to do this back in my Honors version of this class with Dr. Titus, but a different group did this for their final project. I will be taking my own shot at it and seeing how I can model \"firefighting\" in this system.\n",
    "\n"
   ]
  },
  {
   "cell_type": "markdown",
   "id": "874e63ee",
   "metadata": {},
   "source": [
    "\n",
    "### Quick Summary: \n",
    "In the simulation of forest fires we covered in class, there is a two dimensional, almost top down look at this forest. It is implemented as a 2d array, with values of 0,1,2 representing empty, tree and fire.\n",
    "My version will initially just be adding firefighters, who if they can \"access\" the fire, have a decently high chance of putting out the fire. I will then be looking at a more \"realistic\" version of fire that can burn for more than one unit of time in the model. Combining these factors Should give us a look at more complex system and see if there are any correlations or interesting takeaways. \n",
    "\n"
   ]
  },
  {
   "cell_type": "markdown",
   "id": "225c4d48",
   "metadata": {},
   "source": [
    "### What I will be doing\n",
    "I will be taking the base model, demonstrated below, and modifying it accordingly. The first modification is pathing \"water\" to fires. It will then add multi turn fires to simulate burning over time and fire spread. In each of these models, there will be controlling variables, like likelihood to put out the fire with water or likelihood for a fire to keep burning. These can be modified to represent different scenarios and finding what real life scenarios fit with a given set of parameters.\n"
   ]
  },
  {
   "cell_type": "markdown",
   "id": "2bb9d5d5",
   "metadata": {},
   "source": [
    "### Why\n",
    "The modifications I made to this model were two-fold. Both to increase complexity and \"interesting-ness\" but also to more accurately reflect real life (if thats possible). The simple original changes were to get a conceptual idea of how the factors affected the outcome, then mess with them to create something interesting. That has now morphed into making a much more interesting version of those factors and seeing how even small changes in this new system change things dramatically."
   ]
  },
  {
   "cell_type": "markdown",
   "id": "b5cf1079",
   "metadata": {},
   "source": [
    "### Setup\n",
    "I will be using the default setup given in class as seen below."
   ]
  },
  {
   "cell_type": "code",
   "execution_count": 2,
   "id": "87a239d3",
   "metadata": {},
   "outputs": [],
   "source": [
    "def nn(i,j,N):\n",
    "    if i==0:\n",
    "        il = N-1\n",
    "        ir = 1    \n",
    "    elif i==N-1:\n",
    "        il = N-2\n",
    "        ir = 0\n",
    "    else:\n",
    "        il = i-1\n",
    "        ir = i+1\n",
    "        \n",
    "    if j==0:\n",
    "        jl = N-1\n",
    "        jr = 1    \n",
    "    elif j==N-1:\n",
    "        jl = N-2\n",
    "        jr = 0\n",
    "    else:\n",
    "        jl = j-1\n",
    "        jr = j+1 \n",
    "    \n",
    "    return [il,ir,jl,jr]  "
   ]
  },
  {
   "cell_type": "code",
   "execution_count": 3,
   "id": "3a239b2f",
   "metadata": {},
   "outputs": [],
   "source": [
    "def initialize(N):\n",
    "    x = np.zeros((N,N))\n",
    "    for i in range(0,N):\n",
    "        for j in range(0,N):\n",
    "            Z = np.random.rand()\n",
    "            if Z<.25:\n",
    "                x[i,j] = 1\n",
    "            else:\n",
    "                x[i,j] = 0\n",
    "                    \n",
    "    \n",
    "\n",
    "    return x\n"
   ]
  },
  {
   "cell_type": "code",
   "execution_count": 4,
   "id": "13764b25",
   "metadata": {},
   "outputs": [],
   "source": [
    "def forestupdate(x,p,f):\n",
    "    N = len(x)\n",
    "    xnew = np.zeros((N,N))\n",
    "    \n",
    "    EMPTY = 0\n",
    "    TREE = 1\n",
    "    FIRE = 2\n",
    "    \n",
    "    for i in range(N-1):\n",
    "        for j in range(N-1):\n",
    "            (il,ir,jl,jr) = nn(i,j,N)\n",
    "            if x[i,j] == 1:\n",
    "                if max([x[i,jl], x[i,jr], x[il,j], x[ir,j]]) == 2 or np.random.random() <= f:\n",
    "                    xnew[i,j] = 2\n",
    "                else:\n",
    "                    xnew[i,j] = 1\n",
    "                    \n",
    "            elif x[i,j] == 2:\n",
    "                xnew[i,j] = 0\n",
    "                \n",
    "            elif x[i,j] == 0:\n",
    "                if np.random.rand() <= p:\n",
    "                    xnew[i,j] = 1\n",
    "            \n",
    "    return xnew\n"
   ]
  },
  {
   "cell_type": "code",
   "execution_count": 5,
   "id": "597d4434",
   "metadata": {},
   "outputs": [],
   "source": [
    "N = 40\n",
    "p = 30/(N**2)\n",
    "f = 0.1/(N**2)\n",
    "\n",
    "Nt = 100\n",
    "x = np.zeros((N,N,Nt))\n",
    "\n",
    "x[:,:,0] = initialize(N)\n",
    "            \n",
    "for n in range(0,Nt-1):\n",
    "    x[:,:,n+1] = forestupdate(x[:,:,n],p,f)"
   ]
  },
  {
   "cell_type": "code",
   "execution_count": 6,
   "id": "0ba0f6b9",
   "metadata": {},
   "outputs": [
    {
     "data": {
      "image/png": "[encoded data removed]",
      "text/plain": [
       "<Figure size 640x480 with 1 Axes>"
      ]
     },
     "metadata": {},
     "output_type": "display_data"
    }
   ],
   "source": [
    "for n in range(0,Nt):\n",
    "    sleep(0.01) # Sets the maximum animation speed\n",
    "    plt.imshow(x[:,:,n],cmap='turbo',vmin=0, vmax=2)\n",
    "    clear_output(wait=True)\n",
    "    plt.show()"
   ]
  },
  {
   "cell_type": "markdown",
   "id": "f73f7149",
   "metadata": {},
   "source": [
    "## New Stuff\n",
    "So far, nothing new, but what if we add a check for accessible fire?\n",
    "Accessible meaning there is a path (from the edge) to the fire for \"firefighters\" to put out the fire. This was a lot more complicated to implement that I thought. Special thank you to Ethan for helping debug this mess.\n",
    "\n",
    "Originally, I was just going to recontextualize how we check if something was on fire:\n",
    "```py\n",
    "max([x[i,jl], x[i,jr], x[il,j], x[ir,j]]) == 2\n",
    "``` \n",
    "and change it to:\n",
    "```py\n",
    "min([x[i,jl], x[i,jr], x[il,j], x[ir,j]]) == 0\n",
    "```\n",
    "to see if there was an open side so firefighters could access the fire, but I decided to go more in depth and take the path all the way out to the edge of the graph, for realism and curiosity sake.\n"
   ]
  },
  {
   "cell_type": "markdown",
   "id": "4f1a85a7",
   "metadata": {},
   "source": [
    "### Adding Water"
   ]
  },
  {
   "cell_type": "code",
   "execution_count": 7,
   "id": "526328d8",
   "metadata": {},
   "outputs": [],
   "source": [
    "# check if an index is out of bounds, used in finding paths to fire\n",
    "def out_of_bounds(i, j, N):\n",
    "    return i < 0 or i >= N or j < 0 or j >= N\n",
    "# add assert to see if it works\n",
    "assert np.isclose(out_of_bounds(-1,10,30),True)\n",
    "assert np.isclose(out_of_bounds(10,-1,30),True)\n",
    "assert np.isclose(out_of_bounds(10,100,30),True)\n",
    "assert np.isclose(out_of_bounds(100,10,30),True)\n",
    "assert np.isclose(out_of_bounds(10,10,30),False)\n",
    "\n",
    "# check if the path has finished, or reached the edge\n",
    "def is_boundary(i,j,N):\n",
    "    return i == 0 or i == N-1 or j == 0 or j == N-1\n",
    "# add assert to see if it works\n",
    "assert np.isclose(is_boundary(0,10,30),True)\n",
    "assert np.isclose(is_boundary(29,10,30),True)\n",
    "assert np.isclose(is_boundary(10,29,30),True)\n",
    "assert np.isclose(is_boundary(22,0,30),True)\n",
    "assert np.isclose(is_boundary(10,10,30),False)\n",
    "\n",
    "# this is where the magic happens\n",
    "#    from a given point, \n",
    "#    check in all directions if there is nothing in the way of getting to it, \n",
    "#    represented by 0s along the path from a fire (2)\n",
    "def has_zero_path(matrix, i, j, N):\n",
    "    #fail case\n",
    "    if out_of_bounds(i,j,N) or matrix[i,j] != 0:\n",
    "        return False\n",
    "    #base case, IE it never hit the fail case\n",
    "    if is_boundary(i,j,N) and matrix[i,j] == 0:\n",
    "        return True\n",
    "    #this prevents it from hanging on certain indices\n",
    "    matrix[i,j] = -1\n",
    "    #Recursive call one step out to keep looking\n",
    "    path_exists = has_zero_path(matrix, i+1, j, N) or \\\n",
    "                  has_zero_path(matrix, i-1, j, N) or \\\n",
    "                  has_zero_path(matrix, i, j+1, N) or \\\n",
    "                  has_zero_path(matrix, i, j-1, N)\n",
    "\n",
    "    matrix[i,j] = 0\n",
    "    #return if path exists or not\n",
    "    return path_exists\n",
    "\n",
    "#from 3b, used to count number of each and useful for error checking\n",
    "def counts(x):\n",
    "    return len(x[x == 0]), len(x[x == 1]), len(x[x == 2]), len(x[x==3])\n"
   ]
  },
  {
   "cell_type": "code",
   "execution_count": 8,
   "id": "24f9a527",
   "metadata": {},
   "outputs": [],
   "source": [
    "def forestupdate2(x,p,f,w):\n",
    "    N = len(x)\n",
    "    xnew = np.zeros((N,N))\n",
    "    EMPTY = 0\n",
    "    TREE = 1\n",
    "    FIRE = 2\n",
    "    # add water\n",
    "    WATER = 3\n",
    "    \n",
    "    for i in range(N):\n",
    "        for j in range(N):\n",
    "            (il,ir,jl,jr) = nn(i,j,N)\n",
    "            if x[i,j] == 1:\n",
    "                if max([x[i,jl], x[i,jr], x[il,j], x[ir,j]]) == 2 or np.random.random() <= f:\n",
    "                    xnew[i,j] = 2\n",
    "                else:\n",
    "                    xnew[i,j] = 1\n",
    "            elif x[i,j] ==2:\n",
    "                #had to run the first 4 iterations (steps out) so computationally a pain\n",
    "                if has_zero_path(x, i+1, j, N) or has_zero_path(x, i-1, j, N) or has_zero_path(x, i, j+1, N) or has_zero_path(x, i, j-1, N):\n",
    "                    #print(f'Zero path exists: ({i},{j})')\n",
    "                    if np.random.random()<= w:\n",
    "                        xnew[i,j] = 3\n",
    "            elif x[i,j] == 3:\n",
    "                xnew[i,j] = 0\n",
    "                \n",
    "            elif x[i,j] == 0:\n",
    "                if np.random.rand() <= p:\n",
    "                    xnew[i,j] = 1\n",
    "            \n",
    "    return xnew\n"
   ]
  },
  {
   "cell_type": "code",
   "execution_count": 9,
   "id": "fcc10e0d",
   "metadata": {},
   "outputs": [],
   "source": [
    "#reduce N to see results quicker\n",
    "N = 20\n",
    "p = 30/(N**2)\n",
    "f = 0.15/(N**2)\n",
    "w = .5 #variable to change, lower = less chance to put out\n",
    "Nt = 100\n",
    "x = np.zeros((N,N,Nt))\n",
    "\n",
    "x[:,:,0] = initialize(N)\n",
    "            \n",
    "for n in range(0,Nt-1):\n",
    "    x[:,:,n+1] = forestupdate2(x[:,:,n],p,f,w)"
   ]
  },
  {
   "cell_type": "code",
   "execution_count": 10,
   "id": "6fd137f6",
   "metadata": {},
   "outputs": [
    {
     "data": {
      "image/png": "[encoded data removed]",
      "text/plain": [
       "<Figure size 640x480 with 1 Axes>"
      ]
     },
     "metadata": {},
     "output_type": "display_data"
    }
   ],
   "source": [
    "for n in range(0,Nt):\n",
    "    sleep(.1) # Sets the maximum animation speed\n",
    "    plt.imshow(x[:,:,n],cmap='turbo',vmin=0, vmax=3)\n",
    "    clear_output(wait=True)\n",
    "    plt.show()"
   ]
  },
  {
   "cell_type": "code",
   "execution_count": 11,
   "id": "7da3f646",
   "metadata": {},
   "outputs": [
    {
     "data": {
      "image/png": "[encoded data removed]",
      "text/plain": [
       "<Figure size 640x480 with 1 Axes>"
      ]
     },
     "metadata": {},
     "output_type": "display_data"
    }
   ],
   "source": [
    "empty = np.zeros(Nt)\n",
    "trees = np.zeros(Nt)\n",
    "fire = np.zeros(Nt)\n",
    "water = np.zeros(Nt)\n",
    "\n",
    "for i in range(0,Nt):\n",
    "    empty[i], trees[i], fire[i], water[i] = counts(x[:,:,i])\n",
    "    \n",
    "t = np.linspace(0,Nt-1,Nt)    \n",
    "plt.plot(t,empty/(N**2),'k-')\n",
    "plt.plot(t,trees/(N**2),'g-')\n",
    "plt.plot(t,fire/(N**2),'r-')\n",
    "plt.plot(t,water/(N**2),'b--')\n",
    "plt.legend(['empty','trees','fire','water'])\n",
    "plt.xlabel('t')\n",
    "plt.ylabel('fraction')\n",
    "plt.show()"
   ]
  },
  {
   "cell_type": "markdown",
   "id": "213477a3",
   "metadata": {},
   "source": [
    "### Something Interesting:\n",
    "My initial assumptions I made, even about this admittedly simple model, were way off. I was way off my predictions about the number of \"water\" cells and the interactions as a whole. I expected that any sort of \"water\" added to the mix would help immensely, but It appears not, but more on this later..."
   ]
  },
  {
   "cell_type": "markdown",
   "id": "9b7366a2",
   "metadata": {},
   "source": [
    "### Further Exploration\n",
    "Originally I was just going to add a burn factor, b, to give fire some probability of staying lit for more than 1 iteration, but again to add more depth I decided against that instead opting for something slightly more complex.\n",
    "\n",
    "This new addition would be a fire tracking matrix to keep track of what cells have been on fire and for how long. This compounds with the already existing b (now basically used as a normalization factor) to keep cells on fire for longer and more varied lengths of time. "
   ]
  },
  {
   "cell_type": "code",
   "execution_count": 12,
   "id": "dcf58c01",
   "metadata": {},
   "outputs": [],
   "source": [
    "def forestupdateF(x,p,f,w,b):\n",
    "    N = len(x)\n",
    "    xnew = np.zeros((N,N))\n",
    "    visited = np.zeros((N,N))\n",
    "    fire = np.zeros((N,N)) #added tracking matrix\n",
    "    EMPTY = 0\n",
    "    TREE = 1\n",
    "    FIRE = 2\n",
    "    WATER = 3\n",
    "    \n",
    "    \n",
    "    for i in range(N):\n",
    "        for j in range(N):\n",
    "            (il,ir,jl,jr) = nn(i,j,N)\n",
    "            if x[i,j] == 1:\n",
    "                if max([x[i,jl], x[i,jr], x[il,j], x[ir,j]]) == 2 or np.random.random() <= f:\n",
    "                    xnew[i,j] = 2\n",
    "                else:\n",
    "                    xnew[i,j] = 1\n",
    "            elif x[i,j] == 2:\n",
    "                #added checks if cell has reached max burn time\n",
    "                FireCheck = False\n",
    "                if fire[i,j] == 2:\n",
    "                    fire[i,j] = 0\n",
    "                    xnew[i,j] = 0\n",
    "                    FireCheck = True\n",
    "                #if the burn factor is high enough to keep it going and it has not reached its time limit\n",
    "                if np.random.random()<= b and FireCheck == False:\n",
    "                    xnew[i,j] = 2\n",
    "                    fire[i,j] += 1\n",
    "                #same as before\n",
    "                if has_zero_path(x, i+1, j, N) or has_zero_path(x, i-1, j, N) or has_zero_path(x, i, j+1, N) or has_zero_path(x, i, j-1, N):\n",
    "                    #print(f'Zero path exists: ({i},{j})')\n",
    "                    if np.random.random()<= w:\n",
    "                        xnew[i,j] = 3\n",
    "                        fire[i,j] = 0\n",
    "\n",
    "                    \n",
    "            elif x[i,j] == 3:\n",
    "                xnew[i,j] = 0\n",
    "                \n",
    "            elif x[i,j] == 0:\n",
    "                if np.random.rand() <= p:\n",
    "                    xnew[i,j] = 1\n",
    "            \n",
    "    return xnew"
   ]
  },
  {
   "cell_type": "code",
   "execution_count": null,
   "id": "303c4b94",
   "metadata": {},
   "outputs": [],
   "source": [
    "N = 20\n",
    "p = 30/(N**2)\n",
    "f = 0.15/(N**2)\n",
    "w = .50\n",
    "b = .9\n",
    "Nt = 100\n",
    "x = np.zeros((N,N,Nt))\n",
    "\n",
    "x[:,:,0] = initialize(N)\n",
    "            \n",
    "for n in range(0,Nt-1):\n",
    "    x[:,:,n+1] = forestupdateF(x[:,:,n],p,f,w,b)"
   ]
  },
  {
   "cell_type": "code",
   "execution_count": null,
   "id": "0356fa9b",
   "metadata": {},
   "outputs": [],
   "source": [
    "for n in range(0,Nt):\n",
    "    sleep(.1) # Sets the maximum animation speed\n",
    "    plt.imshow(x[:,:,n],cmap='turbo',vmin=0, vmax=3)\n",
    "    clear_output(wait=True)\n",
    "    plt.show()"
   ]
  },
  {
   "cell_type": "code",
   "execution_count": null,
   "id": "6265f9e3",
   "metadata": {},
   "outputs": [],
   "source": [
    "empty = np.zeros(Nt)\n",
    "trees = np.zeros(Nt)\n",
    "fire = np.zeros(Nt)\n",
    "water = np.zeros(Nt)\n",
    "\n",
    "for i in range(0,Nt):\n",
    "    empty[i], trees[i], fire[i], water[i] = counts(x[:,:,i])\n",
    "    \n",
    "t = np.linspace(0,Nt-1,Nt)    \n",
    "plt.plot(t,empty/(N**2),'k-')\n",
    "plt.plot(t,trees/(N**2),'g-')\n",
    "plt.plot(t,fire/(N**2),'r-')\n",
    "plt.plot(t,water/(N**2),'b--')\n",
    "plt.legend(['empty','trees','fire','water'])\n",
    "plt.xlabel('t')\n",
    "plt.ylabel('fraction')\n",
    "plt.show()"
   ]
  },
  {
   "cell_type": "markdown",
   "id": "c19e4eab",
   "metadata": {},
   "source": [
    "# More Interesting:\n",
    "This graph looks like it almost stabilizes with what are my default parameters (lucky guess after I learned my lesson the first time). So I decided to run it again for longer (more Nt) and see what happens..."
   ]
  },
  {
   "cell_type": "code",
   "execution_count": null,
   "id": "399d3c62",
   "metadata": {},
   "outputs": [],
   "source": [
    "N = 20\n",
    "p = 30/(N**2)\n",
    "f = 0.15/(N**2)\n",
    "w = .50\n",
    "b = .9\n",
    "Nt = 250\n",
    "x = np.zeros((N,N,Nt))\n",
    "\n",
    "x[:,:,0] = initialize(N)\n",
    "            \n",
    "for n in range(0,Nt-1):\n",
    "    x[:,:,n+1] = forestupdateF(x[:,:,n],p,f,w,b)"
   ]
  },
  {
   "cell_type": "code",
   "execution_count": null,
   "id": "3140f724",
   "metadata": {},
   "outputs": [],
   "source": [
    "for n in range(0,Nt):\n",
    "    sleep(.1) # Sets the maximum animation speed\n",
    "    plt.imshow(x[:,:,n],cmap='turbo',vmin=0, vmax=2)\n",
    "    clear_output(wait=True)\n",
    "    plt.show()"
   ]
  },
  {
   "cell_type": "code",
   "execution_count": null,
   "id": "e73e468c",
   "metadata": {},
   "outputs": [],
   "source": [
    "empty = np.zeros(Nt)\n",
    "trees = np.zeros(Nt)\n",
    "fire = np.zeros(Nt)\n",
    "water = np.zeros(Nt)\n",
    "\n",
    "for i in range(0,Nt):\n",
    "    empty[i], trees[i], fire[i], water[i] = counts(x[:,:,i])\n",
    "    \n",
    "t = np.linspace(0,Nt-1,Nt)    \n",
    "plt.plot(t,empty/(N**2),'k-')\n",
    "plt.plot(t,trees/(N**2),'g-')\n",
    "plt.plot(t,fire/(N**2),'r-')\n",
    "plt.plot(t,water/(N**2),'b--')\n",
    "plt.legend(['empty','trees','fire','water'])\n",
    "plt.xlabel('t')\n",
    "plt.ylabel('fraction')\n",
    "plt.show()"
   ]
  },
  {
   "cell_type": "markdown",
   "id": "8611b1d5",
   "metadata": {},
   "source": [
    "# More Interesting:\n",
    "This seems to almost have a periodic behavior, with a large swing to fire and then several smaller fires follow as the firefighters \"clean up\" before the next big forest fire. This seems like it could be representative of some real life fires. There are probably too many factors and randomness going into my specific model, but With more time/refinement/expertise, this could be useful.\n",
    "\n",
    "This also looks great and was in no way expected or intended. I would be interested to solve this system to see what the steady state actually is, and/or if this is it? \n",
    "\n",
    "There is an element of randomness to this obviously, but the consistency of peaks and valleys crossing (red and green) and then steadying out for a while to only do it again certainly peaked my interest."
   ]
  },
  {
   "cell_type": "markdown",
   "id": "66dbc7bd",
   "metadata": {},
   "source": [
    "## Accuracy\n",
    "Obviously, no direct 1:1 correlation in the real world, but could be used to see how different response times, how effective different responses are (w factor), and this model can even account for faster or slower burning fires to some extent (using b).\n",
    "In a logical sense, the increase in trees leads to an increase in fires which leads to an increase in firefighting paths for the fires, all demonstrated by the graphs and simulations. There are no overtakes or weird behaviors, like hanging fires, so the model works as intended with a reasonable level of certainty.\n",
    "\n",
    "All functions work as intended and all passed all tests. Through about 4 hours of debugging and testing (thanks again ethan), can demonstrate that the pathing algorithm works as intended. As for everything else. I tried my best to gauge the correct parameters to make one portion (fire, trees, water) not too dominant so the simulation dies after a few run throughs.\n",
    "\n",
    "Related, The size of the matrix (forest) directly affects the performance and number of paths available. This is because the boundaries of the matrix is the goal of the pathing function, so  if one uses a bigger matrix, there are more possible end points (and more possibilities in general)."
   ]
  },
  {
   "cell_type": "markdown",
   "id": "dfbd6ccc",
   "metadata": {},
   "source": [
    "## Reflection\n",
    "Honestly I got way more into this than I expected to. My original idea was to basically mess with this system with a few tweaks and see if it came out with anything interesting. Instead, I think I ended up building interesting into this model, through much more advanced algorithms (pathing) and logic (fire matrix). This did add a lot of overhead, but the increase in wait times between runs was well worth it for the enhanced model. I actually had a lot of fun (minus the debugging) making, testing, and playing around in this model. Most of what I added was on the backend, like path algorithm, leaving a lot of room for experimentation in the front end, like how effective is the water. Basically, I feel like I made a much better sandbox to start playing in, not that I necessarily made the best sandcastle."
   ]
  },
  {
   "cell_type": "code",
   "execution_count": null,
   "id": "60068361",
   "metadata": {},
   "outputs": [],
   "source": []
  }
 ],
 "metadata": {
  "kernelspec": {
   "display_name": "Python 3 (ipykernel)",
   "language": "python",
   "name": "python3"
  },
  "language_info": {
   "codemirror_mode": {
    "name": "ipython",
    "version": 3
   },
   "file_extension": ".py",
   "mimetype": "text/x-python",
   "name": "python",
   "nbconvert_exporter": "python",
   "pygments_lexer": "ipython3",
   "version": "3.9.13"
  }
 },
 "nbformat": 4,
 "nbformat_minor": 5
}
